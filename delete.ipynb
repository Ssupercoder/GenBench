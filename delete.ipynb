{
 "cells": [
  {
   "cell_type": "code",
   "execution_count": 16,
   "metadata": {},
   "outputs": [],
   "source": [
    "import os\n",
    "\n",
    "ds_store_file_location = '/usr/data/Jiahui.Li/hyena-dna/data/genomic_benchmark/human_enhancers_ensembl/train/.DS_Store'\n",
    "if os.path.isfile(ds_store_file_location):\n",
    "    print('yes')\n",
    "    os.remove(ds_store_file_location)"
   ]
  }
 ],
 "metadata": {
  "kernelspec": {
   "display_name": "hyena-dna",
   "language": "python",
   "name": "python3"
  },
  "language_info": {
   "codemirror_mode": {
    "name": "ipython",
    "version": 3
   },
   "file_extension": ".py",
   "mimetype": "text/x-python",
   "name": "python",
   "nbconvert_exporter": "python",
   "pygments_lexer": "ipython3",
   "version": "3.8.18"
  }
 },
 "nbformat": 4,
 "nbformat_minor": 2
}
